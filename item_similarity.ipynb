{
 "cells": [
  {
   "cell_type": "markdown",
   "metadata": {},
   "source": [
    "# Import Libraries"
   ]
  },
  {
   "cell_type": "code",
   "execution_count": 20,
   "metadata": {},
   "outputs": [],
   "source": [
    "import numpy as np\n",
    "import pandas as pd\n",
    "from sklearn.metrics.pairwise import cosine_similarity\n",
    "import pickle"
   ]
  },
  {
   "cell_type": "markdown",
   "metadata": {},
   "source": [
    "# Import Data"
   ]
  },
  {
   "cell_type": "code",
   "execution_count": 2,
   "metadata": {},
   "outputs": [],
   "source": [
    "ratings = pd.read_csv(\"Data/ratings.csv\")\n",
    "movies = pd.read_csv(\"Data/movies.csv\")"
   ]
  },
  {
   "cell_type": "code",
   "execution_count": 3,
   "metadata": {},
   "outputs": [
    {
     "data": {
      "text/html": [
       "<div>\n",
       "<style scoped>\n",
       "    .dataframe tbody tr th:only-of-type {\n",
       "        vertical-align: middle;\n",
       "    }\n",
       "\n",
       "    .dataframe tbody tr th {\n",
       "        vertical-align: top;\n",
       "    }\n",
       "\n",
       "    .dataframe thead th {\n",
       "        text-align: right;\n",
       "    }\n",
       "</style>\n",
       "<table border=\"1\" class=\"dataframe\">\n",
       "  <thead>\n",
       "    <tr style=\"text-align: right;\">\n",
       "      <th></th>\n",
       "      <th>userId</th>\n",
       "      <th>movieId</th>\n",
       "      <th>rating</th>\n",
       "      <th>timestamp</th>\n",
       "      <th>title</th>\n",
       "      <th>genres</th>\n",
       "    </tr>\n",
       "  </thead>\n",
       "  <tbody>\n",
       "    <tr>\n",
       "      <th>0</th>\n",
       "      <td>1</td>\n",
       "      <td>1</td>\n",
       "      <td>4.0</td>\n",
       "      <td>964982703</td>\n",
       "      <td>Toy Story (1995)</td>\n",
       "      <td>Adventure|Animation|Children|Comedy|Fantasy</td>\n",
       "    </tr>\n",
       "    <tr>\n",
       "      <th>1</th>\n",
       "      <td>5</td>\n",
       "      <td>1</td>\n",
       "      <td>4.0</td>\n",
       "      <td>847434962</td>\n",
       "      <td>Toy Story (1995)</td>\n",
       "      <td>Adventure|Animation|Children|Comedy|Fantasy</td>\n",
       "    </tr>\n",
       "    <tr>\n",
       "      <th>2</th>\n",
       "      <td>7</td>\n",
       "      <td>1</td>\n",
       "      <td>4.5</td>\n",
       "      <td>1106635946</td>\n",
       "      <td>Toy Story (1995)</td>\n",
       "      <td>Adventure|Animation|Children|Comedy|Fantasy</td>\n",
       "    </tr>\n",
       "    <tr>\n",
       "      <th>3</th>\n",
       "      <td>15</td>\n",
       "      <td>1</td>\n",
       "      <td>2.5</td>\n",
       "      <td>1510577970</td>\n",
       "      <td>Toy Story (1995)</td>\n",
       "      <td>Adventure|Animation|Children|Comedy|Fantasy</td>\n",
       "    </tr>\n",
       "    <tr>\n",
       "      <th>4</th>\n",
       "      <td>17</td>\n",
       "      <td>1</td>\n",
       "      <td>4.5</td>\n",
       "      <td>1305696483</td>\n",
       "      <td>Toy Story (1995)</td>\n",
       "      <td>Adventure|Animation|Children|Comedy|Fantasy</td>\n",
       "    </tr>\n",
       "  </tbody>\n",
       "</table>\n",
       "</div>"
      ],
      "text/plain": [
       "   userId  movieId  rating   timestamp             title  \\\n",
       "0       1        1     4.0   964982703  Toy Story (1995)   \n",
       "1       5        1     4.0   847434962  Toy Story (1995)   \n",
       "2       7        1     4.5  1106635946  Toy Story (1995)   \n",
       "3      15        1     2.5  1510577970  Toy Story (1995)   \n",
       "4      17        1     4.5  1305696483  Toy Story (1995)   \n",
       "\n",
       "                                        genres  \n",
       "0  Adventure|Animation|Children|Comedy|Fantasy  \n",
       "1  Adventure|Animation|Children|Comedy|Fantasy  \n",
       "2  Adventure|Animation|Children|Comedy|Fantasy  \n",
       "3  Adventure|Animation|Children|Comedy|Fantasy  \n",
       "4  Adventure|Animation|Children|Comedy|Fantasy  "
      ]
     },
     "execution_count": 3,
     "metadata": {},
     "output_type": "execute_result"
    }
   ],
   "source": [
    "movie_data = pd.merge(ratings, movies, on='movieId')\n",
    "movie_data.head()"
   ]
  },
  {
   "cell_type": "markdown",
   "metadata": {},
   "source": [
    "# Data Processing"
   ]
  },
  {
   "cell_type": "code",
   "execution_count": 4,
   "metadata": {},
   "outputs": [
    {
     "data": {
      "text/plain": [
       "(100836, 6)"
      ]
     },
     "execution_count": 4,
     "metadata": {},
     "output_type": "execute_result"
    }
   ],
   "source": [
    "movie_data.shape"
   ]
  },
  {
   "cell_type": "code",
   "execution_count": 5,
   "metadata": {},
   "outputs": [
    {
     "data": {
      "text/plain": [
       "0                                Toy Story (1995)\n",
       "1                                  Jumanji (1995)\n",
       "2                         Grumpier Old Men (1995)\n",
       "3                        Waiting to Exhale (1995)\n",
       "4              Father of the Bride Part II (1995)\n",
       "                          ...                    \n",
       "9737    Black Butler: Book of the Atlantic (2017)\n",
       "9738                 No Game No Life: Zero (2017)\n",
       "9739                                 Flint (2017)\n",
       "9740          Bungo Stray Dogs: Dead Apple (2018)\n",
       "9741          Andrew Dice Clay: Dice Rules (1991)\n",
       "Name: title, Length: 9742, dtype: object"
      ]
     },
     "execution_count": 5,
     "metadata": {},
     "output_type": "execute_result"
    }
   ],
   "source": [
    "movies['title']"
   ]
  },
  {
   "cell_type": "code",
   "execution_count": 6,
   "metadata": {},
   "outputs": [],
   "source": [
    "movies[\"year\"] = movies[\"title\"].str.extract(r'\\((\\d{4})\\)')"
   ]
  },
  {
   "cell_type": "code",
   "execution_count": 7,
   "metadata": {},
   "outputs": [
    {
     "data": {
      "text/plain": [
       "13"
      ]
     },
     "execution_count": 7,
     "metadata": {},
     "output_type": "execute_result"
    }
   ],
   "source": [
    "movies['year'].isna().sum()"
   ]
  },
  {
   "cell_type": "code",
   "execution_count": 8,
   "metadata": {},
   "outputs": [],
   "source": [
    "# Calculate median year\n",
    "median_year = movies['year'].median()\n",
    "\n",
    "# Fill NaN values in 'year' column with median year\n",
    "movies['year'].fillna(median_year, inplace=True)"
   ]
  },
  {
   "cell_type": "code",
   "execution_count": 9,
   "metadata": {},
   "outputs": [],
   "source": [
    "movies[\"year_cat\"] = pd.cut(movies[\"year\"].astype(int), bins=[1900, 1970, 1990, 2000, 2010, 2020], labels=[\"1900-1970\", \"1970-1990\", \"1990-2000\", \"2000-2010\", \"2010-2020\"])\n",
    "year_cat = pd.get_dummies(movies[\"year_cat\"],dtype=int)   \n",
    "year_cat[\"movieId\"] = movies[\"movieId\"] "
   ]
  },
  {
   "cell_type": "code",
   "execution_count": 10,
   "metadata": {},
   "outputs": [],
   "source": [
    "genres = movies.set_index('movieId')['genres'].str.get_dummies(sep='|')"
   ]
  },
  {
   "cell_type": "code",
   "execution_count": 11,
   "metadata": {},
   "outputs": [],
   "source": [
    "utility_matrix = movie_data.pivot_table(index='movieId', columns='userId', values='rating')"
   ]
  },
  {
   "cell_type": "code",
   "execution_count": 12,
   "metadata": {},
   "outputs": [],
   "source": [
    "utility_matrix.fillna(0, inplace=True)"
   ]
  },
  {
   "cell_type": "code",
   "execution_count": 13,
   "metadata": {},
   "outputs": [],
   "source": [
    "movie_features = utility_matrix.merge(genres, on='movieId', how='inner')\n",
    "movie_features = movie_features.merge(year_cat, on='movieId', how='inner')\n",
    "movie_features.set_index('movieId', inplace=True)"
   ]
  },
  {
   "cell_type": "code",
   "execution_count": 14,
   "metadata": {},
   "outputs": [],
   "source": [
    "similarity = cosine_similarity(movie_features)\n",
    "similarity = pd.DataFrame(similarity, index=movie_features.index, columns=movie_features.index,dtype=float)"
   ]
  },
  {
   "cell_type": "code",
   "execution_count": 23,
   "metadata": {},
   "outputs": [],
   "source": [
    "## save similarity matrix to pickle file\n",
    "with open('item_sim.pkl', 'wb') as file:\n",
    "    pickle.dump(similarity, file)"
   ]
  },
  {
   "cell_type": "code",
   "execution_count": 15,
   "metadata": {},
   "outputs": [],
   "source": [
    "def getsimilarity(movieid,topn=10):\n",
    "    index = similarity[movieid].sort_values(ascending=False).index[1:topn+1]\n",
    "    val = similarity[movieid].sort_values(ascending=False).values[1:topn+1]\n",
    "    df = pd.DataFrame(val, index=index).rename(columns={0:\"similarity\"}).set_index(index)\n",
    "    return df.merge(movies.set_index(\"movieId\"), on='movieId')"
   ]
  },
  {
   "cell_type": "code",
   "execution_count": 16,
   "metadata": {},
   "outputs": [
    {
     "data": {
      "text/html": [
       "<div>\n",
       "<style scoped>\n",
       "    .dataframe tbody tr th:only-of-type {\n",
       "        vertical-align: middle;\n",
       "    }\n",
       "\n",
       "    .dataframe tbody tr th {\n",
       "        vertical-align: top;\n",
       "    }\n",
       "\n",
       "    .dataframe thead th {\n",
       "        text-align: right;\n",
       "    }\n",
       "</style>\n",
       "<table border=\"1\" class=\"dataframe\">\n",
       "  <thead>\n",
       "    <tr style=\"text-align: right;\">\n",
       "      <th></th>\n",
       "      <th>similarity</th>\n",
       "      <th>title_x</th>\n",
       "      <th>genres_x</th>\n",
       "      <th>year_x</th>\n",
       "      <th>year_cat_x</th>\n",
       "      <th>title_y</th>\n",
       "      <th>genres_y</th>\n",
       "      <th>year_y</th>\n",
       "      <th>year_cat_y</th>\n",
       "    </tr>\n",
       "    <tr>\n",
       "      <th>movieId</th>\n",
       "      <th></th>\n",
       "      <th></th>\n",
       "      <th></th>\n",
       "      <th></th>\n",
       "      <th></th>\n",
       "      <th></th>\n",
       "      <th></th>\n",
       "      <th></th>\n",
       "      <th></th>\n",
       "    </tr>\n",
       "  </thead>\n",
       "  <tbody>\n",
       "    <tr>\n",
       "      <th>3114</th>\n",
       "      <td>0.573591</td>\n",
       "      <td>Toy Story 2 (1999)</td>\n",
       "      <td>Adventure|Animation|Children|Comedy|Fantasy</td>\n",
       "      <td>1999</td>\n",
       "      <td>1990-2000</td>\n",
       "      <td>Toy Story 2 (1999)</td>\n",
       "      <td>Adventure|Animation|Children|Comedy|Fantasy</td>\n",
       "      <td>1999</td>\n",
       "      <td>1990-2000</td>\n",
       "    </tr>\n",
       "    <tr>\n",
       "      <th>480</th>\n",
       "      <td>0.565318</td>\n",
       "      <td>Jurassic Park (1993)</td>\n",
       "      <td>Action|Adventure|Sci-Fi|Thriller</td>\n",
       "      <td>1993</td>\n",
       "      <td>1990-2000</td>\n",
       "      <td>Jurassic Park (1993)</td>\n",
       "      <td>Action|Adventure|Sci-Fi|Thriller</td>\n",
       "      <td>1993</td>\n",
       "      <td>1990-2000</td>\n",
       "    </tr>\n",
       "    <tr>\n",
       "      <th>780</th>\n",
       "      <td>0.563897</td>\n",
       "      <td>Independence Day (a.k.a. ID4) (1996)</td>\n",
       "      <td>Action|Adventure|Sci-Fi|Thriller</td>\n",
       "      <td>1996</td>\n",
       "      <td>1990-2000</td>\n",
       "      <td>Independence Day (a.k.a. ID4) (1996)</td>\n",
       "      <td>Action|Adventure|Sci-Fi|Thriller</td>\n",
       "      <td>1996</td>\n",
       "      <td>1990-2000</td>\n",
       "    </tr>\n",
       "    <tr>\n",
       "      <th>260</th>\n",
       "      <td>0.556915</td>\n",
       "      <td>Star Wars: Episode IV - A New Hope (1977)</td>\n",
       "      <td>Action|Adventure|Sci-Fi</td>\n",
       "      <td>1977</td>\n",
       "      <td>1970-1990</td>\n",
       "      <td>Star Wars: Episode IV - A New Hope (1977)</td>\n",
       "      <td>Action|Adventure|Sci-Fi</td>\n",
       "      <td>1977</td>\n",
       "      <td>1970-1990</td>\n",
       "    </tr>\n",
       "    <tr>\n",
       "      <th>356</th>\n",
       "      <td>0.546832</td>\n",
       "      <td>Forrest Gump (1994)</td>\n",
       "      <td>Comedy|Drama|Romance|War</td>\n",
       "      <td>1994</td>\n",
       "      <td>1990-2000</td>\n",
       "      <td>Forrest Gump (1994)</td>\n",
       "      <td>Comedy|Drama|Romance|War</td>\n",
       "      <td>1994</td>\n",
       "      <td>1990-2000</td>\n",
       "    </tr>\n",
       "    <tr>\n",
       "      <th>364</th>\n",
       "      <td>0.541285</td>\n",
       "      <td>Lion King, The (1994)</td>\n",
       "      <td>Adventure|Animation|Children|Drama|Musical|IMAX</td>\n",
       "      <td>1994</td>\n",
       "      <td>1990-2000</td>\n",
       "      <td>Lion King, The (1994)</td>\n",
       "      <td>Adventure|Animation|Children|Drama|Musical|IMAX</td>\n",
       "      <td>1994</td>\n",
       "      <td>1990-2000</td>\n",
       "    </tr>\n",
       "    <tr>\n",
       "      <th>1210</th>\n",
       "      <td>0.540599</td>\n",
       "      <td>Star Wars: Episode VI - Return of the Jedi (1983)</td>\n",
       "      <td>Action|Adventure|Sci-Fi</td>\n",
       "      <td>1983</td>\n",
       "      <td>1970-1990</td>\n",
       "      <td>Star Wars: Episode VI - Return of the Jedi (1983)</td>\n",
       "      <td>Action|Adventure|Sci-Fi</td>\n",
       "      <td>1983</td>\n",
       "      <td>1970-1990</td>\n",
       "    </tr>\n",
       "    <tr>\n",
       "      <th>648</th>\n",
       "      <td>0.538554</td>\n",
       "      <td>Mission: Impossible (1996)</td>\n",
       "      <td>Action|Adventure|Mystery|Thriller</td>\n",
       "      <td>1996</td>\n",
       "      <td>1990-2000</td>\n",
       "      <td>Mission: Impossible (1996)</td>\n",
       "      <td>Action|Adventure|Mystery|Thriller</td>\n",
       "      <td>1996</td>\n",
       "      <td>1990-2000</td>\n",
       "    </tr>\n",
       "    <tr>\n",
       "      <th>1265</th>\n",
       "      <td>0.534304</td>\n",
       "      <td>Groundhog Day (1993)</td>\n",
       "      <td>Comedy|Fantasy|Romance</td>\n",
       "      <td>1993</td>\n",
       "      <td>1990-2000</td>\n",
       "      <td>Groundhog Day (1993)</td>\n",
       "      <td>Comedy|Fantasy|Romance</td>\n",
       "      <td>1993</td>\n",
       "      <td>1990-2000</td>\n",
       "    </tr>\n",
       "    <tr>\n",
       "      <th>1270</th>\n",
       "      <td>0.530187</td>\n",
       "      <td>Back to the Future (1985)</td>\n",
       "      <td>Adventure|Comedy|Sci-Fi</td>\n",
       "      <td>1985</td>\n",
       "      <td>1970-1990</td>\n",
       "      <td>Back to the Future (1985)</td>\n",
       "      <td>Adventure|Comedy|Sci-Fi</td>\n",
       "      <td>1985</td>\n",
       "      <td>1970-1990</td>\n",
       "    </tr>\n",
       "  </tbody>\n",
       "</table>\n",
       "</div>"
      ],
      "text/plain": [
       "         similarity                                            title_x  \\\n",
       "movieId                                                                  \n",
       "3114       0.573591                                 Toy Story 2 (1999)   \n",
       "480        0.565318                               Jurassic Park (1993)   \n",
       "780        0.563897               Independence Day (a.k.a. ID4) (1996)   \n",
       "260        0.556915          Star Wars: Episode IV - A New Hope (1977)   \n",
       "356        0.546832                                Forrest Gump (1994)   \n",
       "364        0.541285                              Lion King, The (1994)   \n",
       "1210       0.540599  Star Wars: Episode VI - Return of the Jedi (1983)   \n",
       "648        0.538554                         Mission: Impossible (1996)   \n",
       "1265       0.534304                               Groundhog Day (1993)   \n",
       "1270       0.530187                          Back to the Future (1985)   \n",
       "\n",
       "                                                genres_x year_x year_cat_x  \\\n",
       "movieId                                                                      \n",
       "3114         Adventure|Animation|Children|Comedy|Fantasy   1999  1990-2000   \n",
       "480                     Action|Adventure|Sci-Fi|Thriller   1993  1990-2000   \n",
       "780                     Action|Adventure|Sci-Fi|Thriller   1996  1990-2000   \n",
       "260                              Action|Adventure|Sci-Fi   1977  1970-1990   \n",
       "356                             Comedy|Drama|Romance|War   1994  1990-2000   \n",
       "364      Adventure|Animation|Children|Drama|Musical|IMAX   1994  1990-2000   \n",
       "1210                             Action|Adventure|Sci-Fi   1983  1970-1990   \n",
       "648                    Action|Adventure|Mystery|Thriller   1996  1990-2000   \n",
       "1265                              Comedy|Fantasy|Romance   1993  1990-2000   \n",
       "1270                             Adventure|Comedy|Sci-Fi   1985  1970-1990   \n",
       "\n",
       "                                                   title_y  \\\n",
       "movieId                                                      \n",
       "3114                                    Toy Story 2 (1999)   \n",
       "480                                   Jurassic Park (1993)   \n",
       "780                   Independence Day (a.k.a. ID4) (1996)   \n",
       "260              Star Wars: Episode IV - A New Hope (1977)   \n",
       "356                                    Forrest Gump (1994)   \n",
       "364                                  Lion King, The (1994)   \n",
       "1210     Star Wars: Episode VI - Return of the Jedi (1983)   \n",
       "648                             Mission: Impossible (1996)   \n",
       "1265                                  Groundhog Day (1993)   \n",
       "1270                             Back to the Future (1985)   \n",
       "\n",
       "                                                genres_y year_y year_cat_y  \n",
       "movieId                                                                     \n",
       "3114         Adventure|Animation|Children|Comedy|Fantasy   1999  1990-2000  \n",
       "480                     Action|Adventure|Sci-Fi|Thriller   1993  1990-2000  \n",
       "780                     Action|Adventure|Sci-Fi|Thriller   1996  1990-2000  \n",
       "260                              Action|Adventure|Sci-Fi   1977  1970-1990  \n",
       "356                             Comedy|Drama|Romance|War   1994  1990-2000  \n",
       "364      Adventure|Animation|Children|Drama|Musical|IMAX   1994  1990-2000  \n",
       "1210                             Action|Adventure|Sci-Fi   1983  1970-1990  \n",
       "648                    Action|Adventure|Mystery|Thriller   1996  1990-2000  \n",
       "1265                              Comedy|Fantasy|Romance   1993  1990-2000  \n",
       "1270                             Adventure|Comedy|Sci-Fi   1985  1970-1990  "
      ]
     },
     "execution_count": 16,
     "metadata": {},
     "output_type": "execute_result"
    }
   ],
   "source": [
    "df = getsimilarity(1,10)\n",
    "df.merge(movies.set_index(\"movieId\"), on='movieId')"
   ]
  }
 ],
 "metadata": {
  "kernelspec": {
   "display_name": "Python 3.10 (tensorflow)",
   "language": "python",
   "name": "tensorflow"
  },
  "language_info": {
   "codemirror_mode": {
    "name": "ipython",
    "version": 3
   },
   "file_extension": ".py",
   "mimetype": "text/x-python",
   "name": "python",
   "nbconvert_exporter": "python",
   "pygments_lexer": "ipython3",
   "version": "3.8.15"
  }
 },
 "nbformat": 4,
 "nbformat_minor": 2
}
