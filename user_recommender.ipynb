{
 "cells": [
  {
   "cell_type": "markdown",
   "metadata": {},
   "source": [
    "# Import Libraries"
   ]
  },
  {
   "cell_type": "code",
   "execution_count": 39,
   "metadata": {},
   "outputs": [],
   "source": [
    "import joblib\n",
    "import numpy as np\n",
    "import pandas as pd\n",
    "\n",
    "from sklearn.preprocessing import LabelEncoder\n",
    "from sklearn.model_selection import train_test_split\n",
    "from sklearn.pipeline import make_pipeline\n",
    "from sklearn.preprocessing import StandardScaler\n",
    "from sklearn.linear_model import SGDRegressor\n",
    "from sklearn.metrics import mean_squared_error, mean_absolute_error\n",
    "\n",
    "import tensorflow as tf\n",
    "from tensorflow.keras.models import Model\n",
    "from tensorflow.keras.layers import Embedding, Flatten, Input, Dense, concatenate\n",
    "from tensorflow.keras.models import load_model"
   ]
  },
  {
   "cell_type": "markdown",
   "metadata": {},
   "source": [
    "# Take a look at MovieLens (small) dataset"
   ]
  },
  {
   "cell_type": "code",
   "execution_count": 23,
   "metadata": {},
   "outputs": [
    {
     "name": "stdout",
     "output_type": "stream",
     "text": [
      "Ratings Data:\n",
      "   userId  movieId  rating  timestamp\n",
      "0       1        1     4.0  964982703\n",
      "1       1        3     4.0  964981247\n",
      "2       1        6     4.0  964982224\n",
      "3       1       47     5.0  964983815\n",
      "4       1       50     5.0  964982931\n",
      "\n",
      "Movies Data:\n",
      "   movieId                               title   \n",
      "0        1                    Toy Story (1995)  \\\n",
      "1        2                      Jumanji (1995)   \n",
      "2        3             Grumpier Old Men (1995)   \n",
      "3        4            Waiting to Exhale (1995)   \n",
      "4        5  Father of the Bride Part II (1995)   \n",
      "\n",
      "                                        genres  \n",
      "0  Adventure|Animation|Children|Comedy|Fantasy  \n",
      "1                   Adventure|Children|Fantasy  \n",
      "2                               Comedy|Romance  \n",
      "3                         Comedy|Drama|Romance  \n",
      "4                                       Comedy  \n",
      "\n",
      "Links Data:\n",
      "   movieId  imdbId   tmdbId\n",
      "0        1  114709    862.0\n",
      "1        2  113497   8844.0\n",
      "2        3  113228  15602.0\n",
      "3        4  114885  31357.0\n",
      "4        5  113041  11862.0\n",
      "\n",
      "Tags Data:\n",
      "   userId  movieId              tag   timestamp\n",
      "0       2    60756            funny  1445714994\n",
      "1       2    60756  Highly quotable  1445714996\n",
      "2       2    60756     will ferrell  1445714992\n",
      "3       2    89774     Boxing story  1445715207\n",
      "4       2    89774              MMA  1445715200\n"
     ]
    }
   ],
   "source": [
    "# # Load the data files\n",
    "# ratings = pd.read_csv('Data/ratings.csv')\n",
    "# movies = pd.read_csv('Data/movies.csv')\n",
    "# links = pd.read_csv('Data/links.csv')\n",
    "# tags = pd.read_csv('Data/tags.csv')\n",
    "\n",
    "# # Display the first few rows of each data file\n",
    "# print(\"Ratings Data:\")\n",
    "# print(ratings.head())\n",
    "\n",
    "# print(\"\\nMovies Data:\")\n",
    "# print(movies.head())\n",
    "\n",
    "# print(\"\\nLinks Data:\")\n",
    "# print(links.head())\n",
    "\n",
    "# print(\"\\nTags Data:\")\n",
    "# print(tags.head())"
   ]
  },
  {
   "cell_type": "markdown",
   "metadata": {},
   "source": [
    "# User Recommender"
   ]
  },
  {
   "cell_type": "markdown",
   "metadata": {},
   "source": [
    "## Import Data"
   ]
  },
  {
   "cell_type": "code",
   "execution_count": 18,
   "metadata": {},
   "outputs": [
    {
     "name": "stdout",
     "output_type": "stream",
     "text": [
      "Ratings Data:\n",
      "   userId  movieId  rating  timestamp\n",
      "0       1        1     4.0  964982703\n",
      "1       1        3     4.0  964981247\n",
      "2       1        6     4.0  964982224\n",
      "3       1       47     5.0  964983815\n",
      "4       1       50     5.0  964982931\n",
      "\n",
      "Movies Data:\n",
      "   movieId                               title   \n",
      "0        1                    Toy Story (1995)  \\\n",
      "1        2                      Jumanji (1995)   \n",
      "2        3             Grumpier Old Men (1995)   \n",
      "3        4            Waiting to Exhale (1995)   \n",
      "4        5  Father of the Bride Part II (1995)   \n",
      "\n",
      "                                        genres  \n",
      "0  Adventure|Animation|Children|Comedy|Fantasy  \n",
      "1                   Adventure|Children|Fantasy  \n",
      "2                               Comedy|Romance  \n",
      "3                         Comedy|Drama|Romance  \n",
      "4                                       Comedy  \n"
     ]
    }
   ],
   "source": [
    "# Load the data files\n",
    "ratings = pd.read_csv('Data/ratings.csv')\n",
    "movies = pd.read_csv('Data/movies.csv')\n",
    "\n",
    "# Display the first few rows of each data file\n",
    "print(\"Ratings Data:\")\n",
    "print(ratings.head())\n",
    "\n",
    "print(\"\\nMovies Data:\")\n",
    "print(movies.head())"
   ]
  },
  {
   "cell_type": "markdown",
   "metadata": {},
   "source": [
    "## Data Processing"
   ]
  },
  {
   "cell_type": "code",
   "execution_count": 21,
   "metadata": {},
   "outputs": [
    {
     "data": {
      "text/plain": [
       "((100836, 4), (9742, 3))"
      ]
     },
     "execution_count": 21,
     "metadata": {},
     "output_type": "execute_result"
    }
   ],
   "source": [
    "ratings.shape , movies.shape"
   ]
  },
  {
   "cell_type": "code",
   "execution_count": 8,
   "metadata": {},
   "outputs": [
    {
     "data": {
      "text/plain": [
       "610"
      ]
     },
     "execution_count": 8,
     "metadata": {},
     "output_type": "execute_result"
    }
   ],
   "source": [
    "ratings['userId'].nunique()"
   ]
  },
  {
   "cell_type": "code",
   "execution_count": 9,
   "metadata": {},
   "outputs": [
    {
     "data": {
      "text/plain": [
       "9724"
      ]
     },
     "execution_count": 9,
     "metadata": {},
     "output_type": "execute_result"
    }
   ],
   "source": [
    "ratings['movieId'].nunique()"
   ]
  },
  {
   "cell_type": "code",
   "execution_count": 19,
   "metadata": {},
   "outputs": [
    {
     "data": {
      "text/plain": [
       "9742"
      ]
     },
     "execution_count": 19,
     "metadata": {},
     "output_type": "execute_result"
    }
   ],
   "source": [
    "movies['movieId'].nunique()"
   ]
  },
  {
   "cell_type": "code",
   "execution_count": 17,
   "metadata": {},
   "outputs": [
    {
     "name": "stdout",
     "output_type": "stream",
     "text": [
      "Max Rating:0.5 and  Min Rating:5.0\n"
     ]
    }
   ],
   "source": [
    "print('Max Rating:' + str(ratings['rating'].min()) + ' and '+ ' Min Rating:' + str(ratings['rating'].max()))"
   ]
  },
  {
   "cell_type": "code",
   "execution_count": 25,
   "metadata": {},
   "outputs": [],
   "source": [
    "# Encode user and movie IDs\n",
    "user_encoder = LabelEncoder()\n",
    "movie_encoder = LabelEncoder()\n",
    "\n",
    "ratings['userId'] = user_encoder.fit_transform(ratings['userId'])\n",
    "ratings['movieId'] = movie_encoder.fit_transform(ratings['movieId'])"
   ]
  },
  {
   "cell_type": "code",
   "execution_count": 27,
   "metadata": {},
   "outputs": [
    {
     "data": {
      "text/plain": [
       "(       userId  movieId  rating   timestamp\n",
       " 80568     508     4893     3.0  1435994597\n",
       " 50582     325     7127     4.0  1322252335\n",
       " 8344       56     1575     3.0   965798155\n",
       " 99603     609      855     4.0  1479544102\n",
       " 71701     461     1808     2.0  1174438249,\n",
       "        userId  movieId  rating   timestamp\n",
       " 67037     431     7316     4.5  1335139641\n",
       " 42175     287      412     3.0   978465565\n",
       " 93850     598     3217     3.0  1498524542\n",
       " 6187       41     2248     4.0   996262677\n",
       " 12229      74     1210     4.0  1158989841)"
      ]
     },
     "execution_count": 27,
     "metadata": {},
     "output_type": "execute_result"
    }
   ],
   "source": [
    "# Split the data into training and testing sets\n",
    "train_data, test_data = train_test_split(ratings, test_size=0.2, random_state=42)\n",
    "\n",
    "train_data.head(), test_data.head()"
   ]
  },
  {
   "cell_type": "markdown",
   "metadata": {},
   "source": [
    "## Model Training"
   ]
  },
  {
   "cell_type": "markdown",
   "metadata": {},
   "source": [
    "### Factorization Machine"
   ]
  },
  {
   "cell_type": "code",
   "execution_count": 30,
   "metadata": {},
   "outputs": [
    {
     "data": {
      "text/plain": [
       "['fm_model.pkl']"
      ]
     },
     "execution_count": 30,
     "metadata": {},
     "output_type": "execute_result"
    }
   ],
   "source": [
    "# Define the Factorization Machine model\n",
    "fm_model = make_pipeline(StandardScaler(), SGDRegressor(max_iter=1000, tol=1e-3))\n",
    "\n",
    "# Prepare the training data\n",
    "X_train = train_data[['userId', 'movieId']]\n",
    "y_train = train_data['rating']\n",
    "\n",
    "# Train the model\n",
    "fm_model.fit(X_train, y_train)\n",
    "\n",
    "# Save the model\n",
    "joblib.dump(fm_model, 'fm_model.pkl')"
   ]
  },
  {
   "cell_type": "markdown",
   "metadata": {},
   "source": [
    "### Neural Collaborative Filtering"
   ]
  },
  {
   "cell_type": "code",
   "execution_count": 32,
   "metadata": {},
   "outputs": [
    {
     "name": "stdout",
     "output_type": "stream",
     "text": [
      "Epoch 1/10\n",
      "\u001b[1m1009/1009\u001b[0m \u001b[32m━━━━━━━━━━━━━━━━━━━━\u001b[0m\u001b[37m\u001b[0m \u001b[1m6s\u001b[0m 4ms/step - loss: 3.3184 - val_loss: 0.8136\n",
      "Epoch 2/10\n",
      "\u001b[1m1009/1009\u001b[0m \u001b[32m━━━━━━━━━━━━━━━━━━━━\u001b[0m\u001b[37m\u001b[0m \u001b[1m4s\u001b[0m 4ms/step - loss: 0.7020 - val_loss: 0.7845\n",
      "Epoch 3/10\n",
      "\u001b[1m1009/1009\u001b[0m \u001b[32m━━━━━━━━━━━━━━━━━━━━\u001b[0m\u001b[37m\u001b[0m \u001b[1m4s\u001b[0m 3ms/step - loss: 0.6573 - val_loss: 0.7753\n",
      "Epoch 4/10\n",
      "\u001b[1m1009/1009\u001b[0m \u001b[32m━━━━━━━━━━━━━━━━━━━━\u001b[0m\u001b[37m\u001b[0m \u001b[1m4s\u001b[0m 4ms/step - loss: 0.6252 - val_loss: 0.7697\n",
      "Epoch 5/10\n",
      "\u001b[1m1009/1009\u001b[0m \u001b[32m━━━━━━━━━━━━━━━━━━━━\u001b[0m\u001b[37m\u001b[0m \u001b[1m4s\u001b[0m 4ms/step - loss: 0.5893 - val_loss: 0.7728\n",
      "Epoch 6/10\n",
      "\u001b[1m1009/1009\u001b[0m \u001b[32m━━━━━━━━━━━━━━━━━━━━\u001b[0m\u001b[37m\u001b[0m \u001b[1m5s\u001b[0m 4ms/step - loss: 0.5714 - val_loss: 0.7929\n",
      "Epoch 7/10\n",
      "\u001b[1m1009/1009\u001b[0m \u001b[32m━━━━━━━━━━━━━━━━━━━━\u001b[0m\u001b[37m\u001b[0m \u001b[1m5s\u001b[0m 4ms/step - loss: 0.5402 - val_loss: 0.8025\n",
      "Epoch 8/10\n",
      "\u001b[1m1009/1009\u001b[0m \u001b[32m━━━━━━━━━━━━━━━━━━━━\u001b[0m\u001b[37m\u001b[0m \u001b[1m5s\u001b[0m 4ms/step - loss: 0.5132 - val_loss: 0.8174\n",
      "Epoch 9/10\n",
      "\u001b[1m1009/1009\u001b[0m \u001b[32m━━━━━━━━━━━━━━━━━━━━\u001b[0m\u001b[37m\u001b[0m \u001b[1m5s\u001b[0m 5ms/step - loss: 0.4796 - val_loss: 0.8248\n",
      "Epoch 10/10\n",
      "\u001b[1m1009/1009\u001b[0m \u001b[32m━━━━━━━━━━━━━━━━━━━━\u001b[0m\u001b[37m\u001b[0m \u001b[1m5s\u001b[0m 4ms/step - loss: 0.4618 - val_loss: 0.8363\n"
     ]
    },
    {
     "name": "stderr",
     "output_type": "stream",
     "text": [
      "WARNING:absl:You are saving your model as an HDF5 file via `model.save()` or `keras.saving.save_model(model)`. This file format is considered legacy. We recommend using instead the native Keras format, e.g. `model.save('my_model.keras')` or `keras.saving.save_model(model, 'my_model.keras')`. \n"
     ]
    }
   ],
   "source": [
    "# Define the NCF model\n",
    "def NCF_model(num_users, num_movies, embedding_size=50):\n",
    "    user_input = Input(shape=(1,), name='user_input')\n",
    "    movie_input = Input(shape=(1,), name='movie_input')\n",
    "    \n",
    "    user_embedding = Embedding(input_dim=num_users, output_dim=embedding_size, name='user_embedding')(user_input)\n",
    "    movie_embedding = Embedding(input_dim=num_movies, output_dim=embedding_size, name='movie_embedding')(movie_input)\n",
    "    \n",
    "    user_vecs = Flatten()(user_embedding)\n",
    "    movie_vecs = Flatten()(movie_embedding)\n",
    "    \n",
    "    concat = concatenate([user_vecs, movie_vecs])\n",
    "    dense = Dense(128, activation='relu')(concat)\n",
    "    output = Dense(1)(dense)\n",
    "    \n",
    "    model = Model([user_input, movie_input], output)\n",
    "    model.compile(optimizer='adam', loss='mse')\n",
    "    \n",
    "    return model\n",
    "\n",
    "num_users = ratings['userId'].nunique()\n",
    "num_movies = ratings['movieId'].nunique()\n",
    "\n",
    "ncf_model = NCF_model(num_users, num_movies)\n",
    "\n",
    "# Prepare the training data for NCF\n",
    "X_train_ncf = [train_data['userId'].values, train_data['movieId'].values]\n",
    "y_train_ncf = train_data['rating'].values\n",
    "\n",
    "# Train the NCF model\n",
    "ncf_model.fit(X_train_ncf, y_train_ncf, epochs=10, batch_size=64, validation_split=0.2)\n",
    "\n",
    "# Save the model\n",
    "ncf_model.save('ncf_model.h5')\n"
   ]
  },
  {
   "cell_type": "markdown",
   "metadata": {},
   "source": [
    "## Model Inference"
   ]
  },
  {
   "cell_type": "markdown",
   "metadata": {},
   "source": [
    "### Loading and Predicting with Factorization Machines"
   ]
  },
  {
   "cell_type": "code",
   "execution_count": 34,
   "metadata": {},
   "outputs": [
    {
     "name": "stdout",
     "output_type": "stream",
     "text": [
      "                                title   \n",
      "0                    Toy Story (1995)  \\\n",
      "1                      Jumanji (1995)   \n",
      "2             Grumpier Old Men (1995)   \n",
      "3            Waiting to Exhale (1995)   \n",
      "4  Father of the Bride Part II (1995)   \n",
      "5                         Heat (1995)   \n",
      "6                      Sabrina (1995)   \n",
      "7                 Tom and Huck (1995)   \n",
      "8                 Sudden Death (1995)   \n",
      "9                    GoldenEye (1995)   \n",
      "\n",
      "                                        genres  predicted_rating  \n",
      "0  Adventure|Animation|Children|Comedy|Fantasy          3.675007  \n",
      "1                   Adventure|Children|Fantasy          3.674992  \n",
      "2                               Comedy|Romance          3.674977  \n",
      "3                         Comedy|Drama|Romance          3.674962  \n",
      "4                                       Comedy          3.674947  \n",
      "5                        Action|Crime|Thriller          3.674932  \n",
      "6                               Comedy|Romance          3.674917  \n",
      "7                           Adventure|Children          3.674902  \n",
      "8                                       Action          3.674887  \n",
      "9                    Action|Adventure|Thriller          3.674872  \n"
     ]
    }
   ],
   "source": [
    "# Load the trained Factorization Machine model\n",
    "fm_model = joblib.load('fm_model.pkl')\n",
    "\n",
    "selected_user_id = 1\n",
    "\n",
    "# Get the user's rated movies\n",
    "user_rated_movies = ratings[ratings['userId'] == selected_user_id]['movieId'].values\n",
    "\n",
    "# Create a DataFrame with the selected user and all movies\n",
    "user_predictions = pd.DataFrame({'userId': selected_user_id, 'movieId': range(num_movies)})\n",
    "\n",
    "# Predict the ratings\n",
    "user_predictions['predicted_rating'] = fm_model.predict(user_predictions[['userId', 'movieId']])\n",
    "\n",
    "# Merge with movies data to get titles and genres\n",
    "user_predictions = pd.merge(user_predictions, movies, on='movieId')\n",
    "\n",
    "# Display the top 10 movie recommendations\n",
    "user_recommendations = user_predictions.sort_values(by='predicted_rating', ascending=False).head(10)\n",
    "print(user_recommendations[['title', 'genres', 'predicted_rating']])"
   ]
  },
  {
   "cell_type": "markdown",
   "metadata": {},
   "source": [
    "### Loading and Predicting with NCF"
   ]
  },
  {
   "cell_type": "code",
   "execution_count": 38,
   "metadata": {},
   "outputs": [
    {
     "name": "stderr",
     "output_type": "stream",
     "text": [
      "WARNING:absl:Compiled the loaded model, but the compiled metrics have yet to be built. `model.compile_metrics` will be empty until you train or evaluate the model.\n"
     ]
    },
    {
     "name": "stdout",
     "output_type": "stream",
     "text": [
      "\u001b[1m304/304\u001b[0m \u001b[32m━━━━━━━━━━━━━━━━━━━━\u001b[0m\u001b[37m\u001b[0m \u001b[1m1s\u001b[0m 3ms/step\n",
      "                                                  title   \n",
      "3963                        Ernest Scared Stupid (1991)  \\\n",
      "4846  Intolerance: Love's Struggle Throughout the Ag...   \n",
      "4519                          Jeepers Creepers 2 (2003)   \n",
      "5163                                  Soul Plane (2004)   \n",
      "4412                       Bodies, Rest & Motion (1993)   \n",
      "4674            Forbidden Games (Jeux interdits) (1952)   \n",
      "4902                               Secret Window (2004)   \n",
      "3979                                     Trapped (2002)   \n",
      "4681                     The Great Train Robbery (1978)   \n",
      "5353                           Country Girl, The (1954)   \n",
      "\n",
      "                                   genres  predicted_rating  \n",
      "3963                               Comedy          5.216476  \n",
      "4846                                Drama          5.210003  \n",
      "4519                      Horror|Thriller          5.205963  \n",
      "5163                               Comedy          5.164419  \n",
      "4412                        Drama|Romance          5.151027  \n",
      "4674                            Drama|War          5.128763  \n",
      "4902                     Mystery|Thriller          5.104165  \n",
      "3979                      Action|Thriller          5.075526  \n",
      "4681  Action|Adventure|Comedy|Crime|Drama          5.049145  \n",
      "5353                                Drama          5.013810  \n"
     ]
    }
   ],
   "source": [
    "# Load the trained NCF model\n",
    "ncf_model = load_model('ncf_model.h5', custom_objects={'mse': tf.keras.losses.MeanSquaredError()})\n",
    "\n",
    "selected_user_id = 1\n",
    "\n",
    "num_movies = ratings['movieId'].nunique()\n",
    "\n",
    "# Get the user's rated movies\n",
    "user_rated_movies = ratings[ratings['userId'] == selected_user_id]['movieId'].values\n",
    "\n",
    "# Create input data for the selected user\n",
    "X_user_ncf = [np.array([selected_user_id] * num_movies), np.array(range(num_movies))]\n",
    "\n",
    "# Predict the ratings\n",
    "user_predictions = pd.DataFrame({'userId': selected_user_id, 'movieId': range(num_movies)})\n",
    "user_predictions['predicted_rating'] = ncf_model.predict(X_user_ncf).flatten()\n",
    "\n",
    "# Merge with movies data to get titles and genres\n",
    "user_predictions = pd.merge(user_predictions, movies, on='movieId')\n",
    "\n",
    "# Display the top 10 movie recommendations\n",
    "user_recommendations = user_predictions.sort_values(by='predicted_rating', ascending=False).head(10)\n",
    "print(user_recommendations[['title', 'genres', 'predicted_rating']])"
   ]
  },
  {
   "cell_type": "markdown",
   "metadata": {},
   "source": [
    "## Models Evaluation"
   ]
  },
  {
   "cell_type": "code",
   "execution_count": 40,
   "metadata": {},
   "outputs": [
    {
     "name": "stdout",
     "output_type": "stream",
     "text": [
      "Factorization Machines - MSE: 1.098197298864979, RMSE: 1.0479490917334577, MAE: 0.8353305184748032\n",
      "\u001b[1m631/631\u001b[0m \u001b[32m━━━━━━━━━━━━━━━━━━━━\u001b[0m\u001b[37m\u001b[0m \u001b[1m1s\u001b[0m 2ms/step\n",
      "Neural Collaborative Filtering - MSE: 0.8358732941926954, RMSE: 0.9142610645722016, MAE: 0.68950717431707\n"
     ]
    }
   ],
   "source": [
    "# Function to evaluate the models\n",
    "def evaluate_model(model, X_test, y_test, model_type='fm'):\n",
    "    if model_type == 'fm':\n",
    "        # Predict with Factorization Machines\n",
    "        y_pred = model.predict(X_test)\n",
    "    elif model_type == 'ncf':\n",
    "        # Predict with Neural Collaborative Filtering\n",
    "        user_input = X_test['userId'].values\n",
    "        movie_input = X_test['movieId'].values\n",
    "        y_pred = model.predict([user_input, movie_input]).flatten()\n",
    "    \n",
    "    # Calculate metrics\n",
    "    mse = mean_squared_error(y_test, y_pred)\n",
    "    rmse = np.sqrt(mse)\n",
    "    mae = mean_absolute_error(y_test, y_pred)\n",
    "    \n",
    "    return mse, rmse, mae\n",
    "\n",
    "# Prepare test data\n",
    "X_test_fm = test_data[['userId', 'movieId']]\n",
    "y_test_fm = test_data['rating']\n",
    "\n",
    "# Evaluate Factorization Machines model\n",
    "mse_fm, rmse_fm, mae_fm = evaluate_model(fm_model, X_test_fm, y_test_fm, model_type='fm')\n",
    "print(f\"Factorization Machines - MSE: {mse_fm}, RMSE: {rmse_fm}, MAE: {mae_fm}\")\n",
    "\n",
    "# Evaluate Neural Collaborative Filtering model\n",
    "mse_ncf, rmse_ncf, mae_ncf = evaluate_model(ncf_model, X_test_fm, y_test_fm, model_type='ncf')\n",
    "print(f\"Neural Collaborative Filtering - MSE: {mse_ncf}, RMSE: {rmse_ncf}, MAE: {mae_ncf}\")\n"
   ]
  }
 ],
 "metadata": {
  "kernelspec": {
   "display_name": "base",
   "language": "python",
   "name": "python3"
  },
  "language_info": {
   "codemirror_mode": {
    "name": "ipython",
    "version": 3
   },
   "file_extension": ".py",
   "mimetype": "text/x-python",
   "name": "python",
   "nbconvert_exporter": "python",
   "pygments_lexer": "ipython3",
   "version": "3.10.12"
  }
 },
 "nbformat": 4,
 "nbformat_minor": 2
}
